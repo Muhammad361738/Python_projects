{
 "cells": [
  {
   "cell_type": "code",
   "execution_count": null,
   "metadata": {},
   "outputs": [],
   "source": [
    "library = {\n",
    "1: {\"title\": \"1984\", \"author\": \"George Orwell\", \"available\": True},\n",
    "2: {\"title\": \"To Kill a Mockingbird\", \"author\": \"Harper Lee\",\n",
    "\"available\": True},\n",
    "}\n",
    "#Adding a new book\n",
    "new_book = {3 : {\"title\": \"The Kite Runner\", \"author\": \"Khaled Hosseini\", \"available\": True}}\n",
    "library.update(new_book)\n",
    "\n",
    "print(library,'\\n')\n",
    "\n",
    "#2.Borrow a book(change its availability to False)\n",
    "display_text = 'Welcome to My Libray!!'\n",
    "print(display_text.center(100))\n",
    "\n",
    "user_choice = input('Do you want to borrow or return? \\n').lower()\n",
    "if user_choice == 'borrow':\n",
    "    print(\"The Book IDs are:\", list(library.keys()),'\\n')\n",
    "    book_id = int(input('Enter Book ID, You want to borrow: \\n'))\n",
    "    if book_id == 1:\n",
    "        library[1][\"available\"] = False\n",
    "        print(\"Available Books are:\", library,'\\n')\n",
    "    elif book_id == 2:\n",
    "        library[1][\"available\"] = False\n",
    "        print(\"Available Books are:\", library,'\\n')\n",
    "    elif book_id == 3:\n",
    "        library[3][\"available\"] = False\n",
    "        print(\"Available Books are:\", library,'\\n')\n",
    "    else:\n",
    "        print('Enter a valid Book ID \\n')\n",
    "elif user_choice == 'return':\n",
    "    print(\"The Book IDs are:\", list(library.keys()),'\\n')\n",
    "    book_id = int(input('Enter Book ID, You want to return: \\n'))\n",
    "    if book_id == 1:\n",
    "        library[1][\"available\"] = True\n",
    "        print(\"Available Books are:\", library,'\\n')\n",
    "    elif book_id == 2:\n",
    "        library[1][\"available\"] = True\n",
    "        print(\"Available Books are:\", library,'\\n')\n",
    "    elif book_id == 3:\n",
    "        library[3][\"available\"] = True\n",
    "        print(\"Available Books are:\", library,'\\n')\n",
    "    else:\n",
    "        print('Enter either 1,2,3 Book ID','\\n')\n",
    "else:\n",
    "    print('Please Enter A Valid Choice','\\n')\n",
    "\n"
   ]
  }
 ],
 "metadata": {
  "language_info": {
   "name": "python"
  }
 },
 "nbformat": 4,
 "nbformat_minor": 2
}
