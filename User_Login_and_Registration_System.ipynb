{
  "nbformat": 4,
  "nbformat_minor": 0,
  "metadata": {
    "colab": {
      "provenance": [],
      "gpuType": "T4",
      "authorship_tag": "ABX9TyNyqrx3SKCjl+GyiMjdHh5C",
      "include_colab_link": true
    },
    "kernelspec": {
      "name": "python3",
      "display_name": "Python 3"
    },
    "language_info": {
      "name": "python"
    },
    "accelerator": "GPU"
  },
  "cells": [
    {
      "cell_type": "markdown",
      "metadata": {
        "id": "view-in-github",
        "colab_type": "text"
      },
      "source": [
        "<a href=\"https://colab.research.google.com/github/Muhammad361738/Python_projects/blob/main/User_Login_and_Registration_System.ipynb\" target=\"_parent\"><img src=\"https://colab.research.google.com/assets/colab-badge.svg\" alt=\"Open In Colab\"/></a>"
      ]
    },
    {
      "cell_type": "markdown",
      "source": [
        " ## User Login and Registration System"
      ],
      "metadata": {
        "id": "td62KHur5ZAt"
      }
    },
    {
      "cell_type": "markdown",
      "source": [
        "**user class **"
      ],
      "metadata": {
        "id": "CPi-BX6NKlQC"
      }
    },
    {
      "cell_type": "code",
      "source": [
        "class User:\n",
        "  def __init__(self,name ,email , password) -> None:\n",
        "    self.name = name\n",
        "    self.email = email\n",
        "    self.password = password\n",
        "  def check_password (self,password):\n",
        "    return self.password == password\n",
        "  def change_password(self,new_password):\n",
        "    self.password = new_password\n",
        "    print(\"Password change successfully \")\n",
        "  def __str__(self) :\n",
        "    return f\"Name {self.name} Email : {self.email}\"\n"
      ],
      "metadata": {
        "id": "ssv9kTRf5ViP"
      },
      "execution_count": 17,
      "outputs": []
    },
    {
      "cell_type": "code",
      "source": [
        "class AuthSystem:\n",
        "  def __init__(self):\n",
        "    self.users = []\n",
        "  def register_user(self,name,email,password):\n",
        "    user = User(name,email,password)\n",
        "    self.users.append(user)\n",
        "    print(\"User Register Successfully \")\n",
        "\n",
        "  def login_user(self,email,password):\n",
        "    for user in self.users:\n",
        "      if user.email == email and user.check_password(password):\n",
        "        print(\"User Login Successfully \")\n",
        "        return True\n",
        "    print(\"Invalid User or Password\")\n",
        "    return False\n",
        "  def find_user(self,username):\n",
        "    for user in self.users:\n",
        "      if user.name == username:\n",
        "        return user\n",
        "    return None\n",
        "  def list_all_users(self):\n",
        "    for user in self.users:\n",
        "      print(user)\n",
        "  def delete_user(self,username,password):\n",
        "    for user in self.users:\n",
        "      if user.name == username and user.change_password(password):\n",
        "        self.users.remove(user)\n",
        "        print(\"User Delete Successfully\")\n",
        "        return\n",
        "    print(\"Invalid User \")\n",
        "\n",
        "  def change_password(self,username,new_password):\n",
        "    for user in self.users:\n",
        "      if user.name == username:\n",
        "        user.change_password(new_password)\n",
        "        return\n",
        "    print(\"Invalid User \")\n"
      ],
      "metadata": {
        "id": "VevLNa_78etc"
      },
      "execution_count": 18,
      "outputs": []
    },
    {
      "cell_type": "code",
      "source": [
        "def main ():\n",
        "  auth_system = AuthSystem()\n",
        "  while True:\n",
        "    print(\"1. Register\")\n",
        "    print(\"2. Login\")\n",
        "    print(\"3. Find User\")\n",
        "    print(\"4. List All User\")\n",
        "    print(\"5. Delete User\")\n",
        "    print(\"6. Change Password\")\n",
        "\n",
        "    choice = input(\"Enter Your Choice : \")\n",
        "    if choice == \"1\":\n",
        "      name = input(\"Enter Your Name : \").strip()\n",
        "      email = input(\"Enter Your Email : \").strip()\n",
        "      password = input(\"Enter Your Password : \").strip()\n",
        "      auth_system.register_user(name,email,password)\n",
        "    elif choice == \"2\":\n",
        "      email = input(\"Enter Your Email : \").strip()\n",
        "      password = input(\"Enter Your Password : \").strip()\n",
        "      auth_system.login_user(email,password)\n",
        "    elif choice == \"3\":\n",
        "      username = input(\"Enter Your Username : \").strip()\n",
        "      user = auth_system.find_user(username)\n",
        "      if user:\n",
        "        print(user)\n",
        "      else:\n",
        "        print(\"User Not Found \")\n",
        "    elif choice == \"4\":\n",
        "      auth_system.list_all_users()\n",
        "    elif choice == \"5\":\n",
        "      username = input(\"Enter Your Username : \").strip()\n",
        "      password = input(\"Enter Your Password : \").strip()\n",
        "      auth_system.delete_user(username,password)\n",
        "\n",
        "    elif choice == \"6\":\n",
        "      username = input(\"Enter Your Username : \").strip()\n",
        "      new_password = input(\"Enter Your New Password : \").strip()\n",
        "      auth_system.change_password(username,new_password)\n",
        "    elif choice == \"7\":\n",
        "      break\n",
        "    else:\n",
        "      print(\"Invalid Choice \")\n",
        "\n",
        "if __name__ == \"__main__\":\n",
        "  main()"
      ],
      "metadata": {
        "colab": {
          "base_uri": "https://localhost:8080/"
        },
        "id": "VO-QA0VWD141",
        "outputId": "5f8f2125-ce25-4de3-b5d9-c26b22494a42"
      },
      "execution_count": 20,
      "outputs": [
        {
          "name": "stdout",
          "output_type": "stream",
          "text": [
            "1. Register\n",
            "2. Login\n",
            "3. Find User\n",
            "4. List All User\n",
            "5. Delete User\n",
            "6. Change Password\n",
            "Enter Your Choice : 7\n"
          ]
        }
      ]
    },
    {
      "cell_type": "code",
      "source": [],
      "metadata": {
        "id": "7Ps6xrX4HVKJ"
      },
      "execution_count": null,
      "outputs": []
    }
  ]
}