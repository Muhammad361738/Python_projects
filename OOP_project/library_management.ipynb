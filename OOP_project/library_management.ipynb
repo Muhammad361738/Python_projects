{
 "cells": [
  {
   "cell_type": "markdown",
   "id": "33c692f5",
   "metadata": {},
   "source": [
    "##  Project 1: Library Management System (Basic Level)\n",
    "Concepts: Class, __init__(), methods, object creation\n",
    "\n",
    "Requirements:\n",
    "Create a class Book with attributes: title, author, year\n",
    "\n",
    "Add a method describe() to display the book's details\n",
    "\n",
    "Create multiple objects and store them in a list\n",
    "\n",
    "Print all book details in a loop\n",
    "\n"
   ]
  },
  {
   "cell_type": "code",
   "execution_count": 3,
   "id": "57429a1b",
   "metadata": {},
   "outputs": [
    {
     "name": "stdout",
     "output_type": "stream",
     "text": [
      "Title : Janat kia pattai\n",
      "Author : Nimrah Ahemd\n",
      "Published Year : 2000 \n",
      "\n",
      "Title : Pear e kamail\n",
      "Author : Umerah Ahemd\n",
      "Published Year : 2005 \n",
      "\n",
      "Title : dil polo ki basti\n",
      "Author : un Nown\n",
      "Published Year : 1896 \n",
      "\n",
      "Title : hawa pani\n",
      "Author : khursheed\n",
      "Published Year : 2013 \n",
      "\n"
     ]
    }
   ],
   "source": [
    "class Book:\n",
    "    def __init__(self, titile : str, author  :str,year : int):\n",
    "        self.title = titile \n",
    "        self.author = author\n",
    "        self.year = year\n",
    "        \n",
    "    def describe(self):\n",
    "        return f\"Title : {self.title}\\nAuthor : {self.author}\\nPublished Year : {self.year}\"\n",
    "        \n",
    "B1 = Book(\"Janat kia pattai\",\"Nimrah Ahemd\",2000)\n",
    "B2 = Book(\"Pear e kamail\",\"Umerah Ahemd\",2005)\n",
    "B3 = Book(\"dil polo ki basti\",\"un Nown\",1896)\n",
    "B4 = Book(\"hawa pani\",\"khursheed\",2013)\n",
    "\n",
    "lst = [B1,B2,B3,B4]\n",
    "for i in lst:\n",
    "    print(i.describe(),\"\\n\")"
   ]
  },
  {
   "cell_type": "code",
   "execution_count": null,
   "id": "1851b438",
   "metadata": {},
   "outputs": [],
   "source": []
  }
 ],
 "metadata": {
  "kernelspec": {
   "display_name": "Python 3",
   "language": "python",
   "name": "python3"
  },
  "language_info": {
   "codemirror_mode": {
    "name": "ipython",
    "version": 3
   },
   "file_extension": ".py",
   "mimetype": "text/x-python",
   "name": "python",
   "nbconvert_exporter": "python",
   "pygments_lexer": "ipython3",
   "version": "3.13.1"
  }
 },
 "nbformat": 4,
 "nbformat_minor": 5
}
