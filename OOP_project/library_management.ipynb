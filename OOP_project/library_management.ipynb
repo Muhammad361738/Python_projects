{
 "cells": [
  {
   "cell_type": "markdown",
   "id": "33c692f5",
   "metadata": {},
   "source": [
    "##  Project 1: Library Management System (Basic Level)\n",
    "Concepts: Class, __init__(), methods, object creation\n",
    "\n",
    "Requirements:\n",
    "Create a class Book with attributes: title, author, year\n",
    "\n",
    "Add a method describe() to display the book's details\n",
    "\n",
    "Create multiple objects and store them in a list\n",
    "\n",
    "Print all book details in a loop\n",
    "\n"
   ]
  },
  {
   "cell_type": "markdown",
   "id": "8da593e1",
   "metadata": {},
   "source": []
  }
 ],
 "metadata": {
  "language_info": {
   "name": "python"
  }
 },
 "nbformat": 4,
 "nbformat_minor": 5
}
